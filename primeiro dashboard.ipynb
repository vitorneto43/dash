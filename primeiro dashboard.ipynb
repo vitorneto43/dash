{
 "cells": [
  {
   "cell_type": "code",
   "execution_count": 1,
   "id": "9490bfd6",
   "metadata": {},
   "outputs": [
    {
     "name": "stdout",
     "output_type": "stream",
     "text": [
      "Requirement already satisfied: pandas in c:\\users\\vaio\\anaconda\\lib\\site-packages (1.5.3)\n",
      "Requirement already satisfied: python-dateutil>=2.8.1 in c:\\users\\vaio\\anaconda\\lib\\site-packages (from pandas) (2.8.2)\n",
      "Requirement already satisfied: pytz>=2020.1 in c:\\users\\vaio\\anaconda\\lib\\site-packages (from pandas) (2022.7)\n",
      "Requirement already satisfied: numpy>=1.21.0 in c:\\users\\vaio\\anaconda\\lib\\site-packages (from pandas) (1.24.3)\n",
      "Requirement already satisfied: six>=1.5 in c:\\users\\vaio\\anaconda\\lib\\site-packages (from python-dateutil>=2.8.1->pandas) (1.16.0)\n",
      "Note: you may need to restart the kernel to use updated packages.\n"
     ]
    }
   ],
   "source": [
    "pip install pandas"
   ]
  },
  {
   "cell_type": "code",
   "execution_count": 2,
   "id": "125ffbda",
   "metadata": {},
   "outputs": [
    {
     "name": "stdout",
     "output_type": "stream",
     "text": [
      "Collecting dash\n",
      "  Downloading dash-2.11.1-py3-none-any.whl (10.4 MB)\n",
      "                                              0.0/10.4 MB ? eta -:--:--\n",
      "                                              0.0/10.4 MB 1.3 MB/s eta 0:00:09\n",
      "                                             0.1/10.4 MB 991.0 kB/s eta 0:00:11\n",
      "                                             0.1/10.4 MB 939.4 kB/s eta 0:00:11\n",
      "                                              0.2/10.4 MB 1.0 MB/s eta 0:00:11\n",
      "                                             0.2/10.4 MB 952.6 kB/s eta 0:00:11\n",
      "     -                                        0.3/10.4 MB 1.3 MB/s eta 0:00:08\n",
      "     -                                        0.4/10.4 MB 1.4 MB/s eta 0:00:08\n",
      "     --                                       0.7/10.4 MB 1.9 MB/s eta 0:00:06\n",
      "     ---                                      0.9/10.4 MB 2.3 MB/s eta 0:00:05\n",
      "     ----                                     1.1/10.4 MB 2.4 MB/s eta 0:00:04\n",
      "     ------                                   1.6/10.4 MB 3.0 MB/s eta 0:00:03\n",
      "     ------                                   1.8/10.4 MB 3.1 MB/s eta 0:00:03\n",
      "     --------                                 2.1/10.4 MB 3.4 MB/s eta 0:00:03\n",
      "     --------                                 2.3/10.4 MB 3.4 MB/s eta 0:00:03\n",
      "     ---------                                2.5/10.4 MB 3.5 MB/s eta 0:00:03\n",
      "     ----------                               2.7/10.4 MB 3.6 MB/s eta 0:00:03\n",
      "     -----------                              2.9/10.4 MB 3.6 MB/s eta 0:00:03\n",
      "     ------------                             3.2/10.4 MB 3.7 MB/s eta 0:00:02\n",
      "     -------------                            3.4/10.4 MB 3.8 MB/s eta 0:00:02\n",
      "     -------------                            3.4/10.4 MB 3.8 MB/s eta 0:00:02\n",
      "     -------------                            3.5/10.4 MB 3.6 MB/s eta 0:00:02\n",
      "     --------------                           3.8/10.4 MB 3.7 MB/s eta 0:00:02\n",
      "     ---------------                          4.0/10.4 MB 3.8 MB/s eta 0:00:02\n",
      "     ----------------                         4.2/10.4 MB 3.8 MB/s eta 0:00:02\n",
      "     -----------------                        4.4/10.4 MB 3.8 MB/s eta 0:00:02\n",
      "     ------------------                       4.7/10.4 MB 4.0 MB/s eta 0:00:02\n",
      "     -------------------                      5.0/10.4 MB 4.1 MB/s eta 0:00:02\n",
      "     -------------------                      5.1/10.4 MB 4.0 MB/s eta 0:00:02\n",
      "     --------------------                     5.4/10.4 MB 4.1 MB/s eta 0:00:02\n",
      "     ---------------------                    5.5/10.4 MB 4.0 MB/s eta 0:00:02\n",
      "     ---------------------                    5.7/10.4 MB 4.1 MB/s eta 0:00:02\n",
      "     ----------------------                   5.9/10.4 MB 4.1 MB/s eta 0:00:02\n",
      "     -----------------------                  6.2/10.4 MB 4.2 MB/s eta 0:00:02\n",
      "     ------------------------                 6.4/10.4 MB 4.2 MB/s eta 0:00:01\n",
      "     -------------------------                6.6/10.4 MB 4.2 MB/s eta 0:00:01\n",
      "     --------------------------               6.8/10.4 MB 4.2 MB/s eta 0:00:01\n",
      "     ---------------------------              7.2/10.4 MB 4.3 MB/s eta 0:00:01\n",
      "     ----------------------------             7.4/10.4 MB 4.3 MB/s eta 0:00:01\n",
      "     -----------------------------            7.6/10.4 MB 4.3 MB/s eta 0:00:01\n",
      "     -----------------------------            7.7/10.4 MB 4.3 MB/s eta 0:00:01\n",
      "     ------------------------------           7.8/10.4 MB 4.2 MB/s eta 0:00:01\n",
      "     -------------------------------          8.2/10.4 MB 4.3 MB/s eta 0:00:01\n",
      "     -------------------------------          8.2/10.4 MB 4.3 MB/s eta 0:00:01\n",
      "     -------------------------------          8.2/10.4 MB 4.3 MB/s eta 0:00:01\n",
      "     -------------------------------          8.2/10.4 MB 4.3 MB/s eta 0:00:01\n",
      "     -------------------------------          8.2/10.4 MB 4.3 MB/s eta 0:00:01\n",
      "     -------------------------------          8.2/10.4 MB 4.3 MB/s eta 0:00:01\n",
      "     ----------------------------------       9.0/10.4 MB 4.1 MB/s eta 0:00:01\n",
      "     -----------------------------------      9.1/10.4 MB 4.2 MB/s eta 0:00:01\n",
      "     -----------------------------------      9.2/10.4 MB 4.1 MB/s eta 0:00:01\n",
      "     ------------------------------------     9.4/10.4 MB 4.1 MB/s eta 0:00:01\n",
      "     -------------------------------------    9.6/10.4 MB 4.1 MB/s eta 0:00:01\n",
      "     -------------------------------------    9.8/10.4 MB 4.1 MB/s eta 0:00:01\n",
      "     --------------------------------------   10.0/10.4 MB 4.1 MB/s eta 0:00:01\n",
      "     ---------------------------------------  10.3/10.4 MB 4.3 MB/s eta 0:00:01\n",
      "     ---------------------------------------  10.4/10.4 MB 4.3 MB/s eta 0:00:01\n",
      "     ---------------------------------------- 10.4/10.4 MB 4.1 MB/s eta 0:00:00\n",
      "Requirement already satisfied: Flask<2.3.0,>=1.0.4 in c:\\users\\vaio\\anaconda\\lib\\site-packages (from dash) (2.2.2)\n",
      "Requirement already satisfied: Werkzeug<2.3.0 in c:\\users\\vaio\\anaconda\\lib\\site-packages (from dash) (2.2.3)\n",
      "Requirement already satisfied: plotly>=5.0.0 in c:\\users\\vaio\\anaconda\\lib\\site-packages (from dash) (5.9.0)\n",
      "Collecting dash-html-components==2.0.0 (from dash)\n",
      "  Downloading dash_html_components-2.0.0-py3-none-any.whl (4.1 kB)\n",
      "Collecting dash-core-components==2.0.0 (from dash)\n",
      "  Downloading dash_core_components-2.0.0-py3-none-any.whl (3.8 kB)\n",
      "Collecting dash-table==5.0.0 (from dash)\n",
      "  Downloading dash_table-5.0.0-py3-none-any.whl (3.9 kB)\n",
      "Requirement already satisfied: typing-extensions>=4.1.1 in c:\\users\\vaio\\anaconda\\lib\\site-packages (from dash) (4.6.3)\n",
      "Requirement already satisfied: requests in c:\\users\\vaio\\anaconda\\lib\\site-packages (from dash) (2.29.0)\n",
      "Collecting retrying (from dash)\n",
      "  Downloading retrying-1.3.4-py3-none-any.whl (11 kB)\n",
      "Collecting ansi2html (from dash)\n",
      "  Downloading ansi2html-1.8.0-py3-none-any.whl (16 kB)\n",
      "Requirement already satisfied: nest-asyncio in c:\\users\\vaio\\anaconda\\lib\\site-packages (from dash) (1.5.6)\n",
      "Requirement already satisfied: Jinja2>=3.0 in c:\\users\\vaio\\anaconda\\lib\\site-packages (from Flask<2.3.0,>=1.0.4->dash) (3.1.2)\n",
      "Requirement already satisfied: itsdangerous>=2.0 in c:\\users\\vaio\\anaconda\\lib\\site-packages (from Flask<2.3.0,>=1.0.4->dash) (2.0.1)\n",
      "Requirement already satisfied: click>=8.0 in c:\\users\\vaio\\anaconda\\lib\\site-packages (from Flask<2.3.0,>=1.0.4->dash) (8.0.4)\n",
      "Requirement already satisfied: tenacity>=6.2.0 in c:\\users\\vaio\\anaconda\\lib\\site-packages (from plotly>=5.0.0->dash) (8.2.2)\n",
      "Requirement already satisfied: MarkupSafe>=2.1.1 in c:\\users\\vaio\\anaconda\\lib\\site-packages (from Werkzeug<2.3.0->dash) (2.1.1)\n",
      "Requirement already satisfied: charset-normalizer<4,>=2 in c:\\users\\vaio\\anaconda\\lib\\site-packages (from requests->dash) (2.0.4)\n",
      "Requirement already satisfied: idna<4,>=2.5 in c:\\users\\vaio\\anaconda\\lib\\site-packages (from requests->dash) (3.4)\n",
      "Requirement already satisfied: urllib3<1.27,>=1.21.1 in c:\\users\\vaio\\anaconda\\lib\\site-packages (from requests->dash) (1.26.16)\n",
      "Requirement already satisfied: certifi>=2017.4.17 in c:\\users\\vaio\\anaconda\\lib\\site-packages (from requests->dash) (2023.5.7)\n",
      "Requirement already satisfied: six>=1.7.0 in c:\\users\\vaio\\anaconda\\lib\\site-packages (from retrying->dash) (1.16.0)\n",
      "Requirement already satisfied: colorama in c:\\users\\vaio\\anaconda\\lib\\site-packages (from click>=8.0->Flask<2.3.0,>=1.0.4->dash) (0.4.6)\n",
      "Installing collected packages: dash-table, dash-html-components, dash-core-components, retrying, ansi2html, dash\n",
      "Successfully installed ansi2html-1.8.0 dash-2.11.1 dash-core-components-2.0.0 dash-html-components-2.0.0 dash-table-5.0.0 retrying-1.3.4\n",
      "Note: you may need to restart the kernel to use updated packages.\n"
     ]
    }
   ],
   "source": [
    "pip install dash"
   ]
  },
  {
   "cell_type": "code",
   "execution_count": 14,
   "id": "2c18ffaf",
   "metadata": {},
   "outputs": [],
   "source": [
    "from dash import Dash, html, dcc, Input, Output\n",
    "import plotly.express as px\n",
    "import pandas as pd"
   ]
  },
  {
   "cell_type": "code",
   "execution_count": 20,
   "id": "898f40b3",
   "metadata": {},
   "outputs": [
    {
     "data": {
      "text/html": [
       "\n",
       "        <iframe\n",
       "            width=\"100%\"\n",
       "            height=\"650\"\n",
       "            src=\"http://127.0.0.1:8050/\"\n",
       "            frameborder=\"0\"\n",
       "            allowfullscreen\n",
       "            \n",
       "        ></iframe>\n",
       "        "
      ],
      "text/plain": [
       "<IPython.lib.display.IFrame at 0x296e3734ed0>"
      ]
     },
     "metadata": {},
     "output_type": "display_data"
    }
   ],
   "source": [
    "app = Dash(__name__)\n",
    "\n",
    "# assume you have a \"long-form\" data frame\n",
    "# see https://plotly.com/python/px-arguments/ for more options\n",
    "df = pd.read_excel(\"C:/Users/vaio/Desktop/dash/vendas.xlsx\")\n",
    "\n",
    "fig = px.bar(df, x=\"Produto\", y=\"Quantidade\", color=\"ID Loja\", barmode=\"group\")\n",
    "opcoes = list(df['ID Loja'].unique())\n",
    "opcoes.append(\"Todas as Lojas\")\n",
    "\n",
    "app.layout = html.Div(children=[\n",
    "    html.H1(children='Faturamento das Lojas'),\n",
    "    html.H2(children='Gráfico de todos os produtos, separados por loja.'),\n",
    "\n",
    "    html.Div(children='''\n",
    "        Obs: Faturamento total das lojas.\n",
    "    '''),\n",
    "    dcc.Dropdown(opcoes, value='Todas as Lojas', id='lista_lojas'),\n",
    "    \n",
    "\n",
    "    dcc.Graph(\n",
    "        id='gráfico_quantidade_vendas',\n",
    "        figure=fig\n",
    "    )\n",
    "])\n",
    "@app.callback(\n",
    "    Output('gráfico_quantidade_vendas', 'figure'),\n",
    "    Input('lista_lojas', 'value')\n",
    ")\n",
    "def update_output(value):\n",
    "    if value == \"Todas as Lojas\":\n",
    "        fig = px.bar(df, x=\"Produto\", y=\"Quantidade\", color=\"ID Loja\", barmode=\"group\")\n",
    "    else:\n",
    "        tabela_filtrada = df.loc[df['ID Loja']==value, :]\n",
    "        fig = px.bar(tabela_filtrada, x=\"Produto\", y=\"Quantidade\", color=\"ID Loja\", barmode=\"group\")\n",
    "    return fig\n",
    "\n",
    "if __name__ == '__main__':\n",
    "    app.run_server(debug=True)"
   ]
  },
  {
   "cell_type": "code",
   "execution_count": null,
   "id": "26b3aaf0",
   "metadata": {},
   "outputs": [],
   "source": []
  },
  {
   "cell_type": "code",
   "execution_count": null,
   "id": "ae1a89fb",
   "metadata": {},
   "outputs": [],
   "source": []
  }
 ],
 "metadata": {
  "kernelspec": {
   "display_name": "Python 3 (ipykernel)",
   "language": "python",
   "name": "python3"
  },
  "language_info": {
   "codemirror_mode": {
    "name": "ipython",
    "version": 3
   },
   "file_extension": ".py",
   "mimetype": "text/x-python",
   "name": "python",
   "nbconvert_exporter": "python",
   "pygments_lexer": "ipython3",
   "version": "3.11.3"
  }
 },
 "nbformat": 4,
 "nbformat_minor": 5
}
